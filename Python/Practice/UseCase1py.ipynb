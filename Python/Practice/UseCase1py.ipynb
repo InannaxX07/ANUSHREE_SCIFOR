{
  "nbformat": 4,
  "nbformat_minor": 0,
  "metadata": {
    "colab": {
      "provenance": [],
      "authorship_tag": "ABX9TyO2IhpPdhEQW6a9hW6LiI40",
      "include_colab_link": true
    },
    "kernelspec": {
      "name": "python3",
      "display_name": "Python 3"
    },
    "language_info": {
      "name": "python"
    }
  },
  "cells": [
    {
      "cell_type": "markdown",
      "metadata": {
        "id": "view-in-github",
        "colab_type": "text"
      },
      "source": [
        "<a href=\"https://colab.research.google.com/github/InannaxX07/ANUSHREE_SCIFOR/blob/main/UseCase1py.ipynb\" target=\"_parent\"><img src=\"https://colab.research.google.com/assets/colab-badge.svg\" alt=\"Open In Colab\"/></a>"
      ]
    },
    {
      "cell_type": "code",
      "execution_count": null,
      "metadata": {
        "id": "0b0PsWSpJUhU"
      },
      "outputs": [],
      "source": [
        "#class name : Bank\n",
        "#checks the atm pin for validity\n",
        "#show verified msg\n",
        "#able to withdraw money\n",
        "#show existing balance\n",
        "\n",
        "#similar for deposits from verification to showing balance after depositing\n",
        "#able to deposit money\n",
        "#checks the atm pin for validity"
      ]
    },
    {
      "cell_type": "code",
      "source": [
        "class BankAccount:\n",
        "\n",
        "\n",
        "    def __init__(self, initial_balance=0, pin=None):\n",
        "\n",
        "        self.balance = initial_balance\n",
        "        self._pin = pin\n",
        "    def verify_pin(self, pin):\n",
        "\n",
        "        return self._pin == pin if self._pin is not None else False\n",
        "\n",
        "    def withdraw(self):\n",
        "\n",
        "        pin = input(\"Enter your PIN: \")\n",
        "        amount = float(input(\"Enter amount to withdraw: \"))\n",
        "\n",
        "        success, message, new_balance = self._perform_transaction(pin, amount, \"withdraw\")\n",
        "        if success:\n",
        "            print(message)\n",
        "        else:\n",
        "            print(message)\n",
        "\n",
        "    def deposit(self):\n",
        "\n",
        "        pin = input(\"Enter your PIN: \")\n",
        "        amount = float(input(\"Enter amount to deposit: \"))\n",
        "\n",
        "        success, message, new_balance = self._perform_transaction(pin, amount, \"deposit\")\n",
        "        if success:\n",
        "            print(message)\n",
        "        else:\n",
        "            print(message)\n",
        "\n",
        "    def _perform_transaction(self, pin, amount, transaction_type):\n",
        "\n",
        "        if not self.verify_pin(pin):\n",
        "            return False, \"Invalid PIN\", self.balance\n",
        "\n",
        "        if transaction_type == \"withdraw\" and amount > self.balance:\n",
        "            return False, \"Insufficient funds\", self.balance\n",
        "\n",
        "        if transaction_type == \"withdraw\":\n",
        "            self.balance -= amount\n",
        "            message = f\"Withdrawal successful! Withdrawn amount: {amount}, New balance: {self.balance}\"\n",
        "        else:\n",
        "            self.balance += amount\n",
        "            message = f\"Deposit successful! Deposited amount: {amount}, New balance: {self.balance}\"\n",
        "\n",
        "        return True, message, self.balance\n",
        "\n",
        "\n",
        "my_account = BankAccount(100, \"1234\")\n",
        "\n",
        "my_account.withdraw()\n",
        "\n",
        "my_account.deposit()\n"
      ],
      "metadata": {
        "colab": {
          "base_uri": "https://localhost:8080/"
        },
        "id": "QR1HsQZcRbzW",
        "outputId": "3f756c0e-17dd-429a-edc1-c2685a434972"
      },
      "execution_count": 19,
      "outputs": [
        {
          "output_type": "stream",
          "name": "stdout",
          "text": [
            "Enter your PIN: 1234\n",
            "Enter amount to withdraw: 110\n",
            "Insufficient funds\n",
            "Enter your PIN: 1234\n",
            "Enter amount to deposit: 10\n",
            "Deposit successful! Deposited amount: 10.0, New balance: 110.0\n"
          ]
        }
      ]
    }
  ]
}
