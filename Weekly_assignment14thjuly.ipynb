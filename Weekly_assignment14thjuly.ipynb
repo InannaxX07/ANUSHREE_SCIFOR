{
  "nbformat": 4,
  "nbformat_minor": 0,
  "metadata": {
    "colab": {
      "provenance": [],
      "authorship_tag": "ABX9TyOx3r59cTtPIi6Xn2aqMQl2",
      "include_colab_link": true
    },
    "kernelspec": {
      "name": "python3",
      "display_name": "Python 3"
    },
    "language_info": {
      "name": "python"
    }
  },
  "cells": [
    {
      "cell_type": "markdown",
      "metadata": {
        "id": "view-in-github",
        "colab_type": "text"
      },
      "source": [
        "<a href=\"https://colab.research.google.com/github/InannaxX07/ANUSHREE_SCIFOR/blob/main/Weekly_assignment14thjuly.ipynb\" target=\"_parent\"><img src=\"https://colab.research.google.com/assets/colab-badge.svg\" alt=\"Open In Colab\"/></a>"
      ]
    },
    {
      "cell_type": "markdown",
      "source": [
        "Explanation:\n",
        "\n",
        "Import Libraries: Import necessary libraries for data manipulation (numpy), loading the dataset (sklearn.datasets), splitting data (sklearn.model_selection), implementing Naive Bayes (sklearn.naive_bayes), and evaluating performance (sklearn.metrics).\n",
        "\n",
        "Load Dataset: Load the Iris dataset using load_iris() from scikit-learn. It provides features (X) and class labels (y).\n",
        "\n",
        "Split Data: Split the data into training and testing sets using train_test_split. The test_size parameter controls the proportion of data in the testing set (20% in this case). The random_state parameter ensures reproducibility.\n",
        "\n",
        "Create and Train Model: Instantiate a MultinomialNB classifier and train it on the training data (X_train, y_train).\n",
        "\n",
        "Make Predictions: Use the trained model to make predictions on the testing set using model.predict(X_test).\n",
        "\n",
        "Evaluate Performance: Calculate the accuracy of the model using accuracy_score.\n",
        "\n",
        "Sample Predictions: Extract a small sample from the testing set and make predictions on them to understand the model's output.\n",
        "\n",
        "Display Actual Labels: If desired, print the actual class labels for the same sample data for comparison.\n"
      ],
      "metadata": {
        "id": "3UYPfngsdb7k"
      }
    },
    {
      "cell_type": "code",
      "execution_count": 2,
      "metadata": {
        "colab": {
          "base_uri": "https://localhost:8080/"
        },
        "id": "uSwKLPedcldP",
        "outputId": "d79290e6-9335-49cd-d6dc-d61fc2b7424f"
      },
      "outputs": [
        {
          "output_type": "stream",
          "name": "stdout",
          "text": [
            "Accuracy: 0.9\n",
            "\n",
            "Sample Predictions: [1 0 2 1 1]\n",
            "\n",
            "Sample Actual Labels: [1 0 2 1 1]\n"
          ]
        }
      ],
      "source": [
        "import numpy as np\n",
        "from sklearn.datasets import load_iris\n",
        "from sklearn.model_selection import train_test_split\n",
        "from sklearn.naive_bayes import MultinomialNB\n",
        "from sklearn.metrics import accuracy_score\n",
        "\n",
        "# Load the Iris dataset\n",
        "iris = load_iris()\n",
        "X = iris.data\n",
        "y = iris.target\n",
        "\n",
        "# Split data into training and testing sets (80% training, 20% testing)\n",
        "X_train, X_test, y_train, y_test = train_test_split(X, y, test_size=0.2, random_state=42)\n",
        "\n",
        "# Create and train the Naive Bayes model (MultinomialNB for discrete features)\n",
        "model = MultinomialNB()\n",
        "model.fit(X_train, y_train)\n",
        "\n",
        "\n",
        "y_pred = model.predict(X_test)\n",
        "\n",
        "accuracy = accuracy_score(y_test, y_pred)\n",
        "print(\"Accuracy:\", accuracy)\n",
        "\n",
        "sample_data = X_test[:5]  # Take the first 5 samples from the testing set\n",
        "sample_predictions = model.predict(sample_data)\n",
        "print(\"\\nSample Predictions:\", sample_predictions)\n",
        "\n",
        "print(\"\\nSample Actual Labels:\", y_test[:5])\n"
      ]
    }
  ]
}