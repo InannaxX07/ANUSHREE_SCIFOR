{
  "nbformat": 4,
  "nbformat_minor": 0,
  "metadata": {
    "colab": {
      "provenance": [],
      "authorship_tag": "ABX9TyNb/MasguxoCI1VxNjPaQjM",
      "include_colab_link": true
    },
    "kernelspec": {
      "name": "python3",
      "display_name": "Python 3"
    },
    "language_info": {
      "name": "python"
    }
  },
  "cells": [
    {
      "cell_type": "markdown",
      "metadata": {
        "id": "view-in-github",
        "colab_type": "text"
      },
      "source": [
        "<a href=\"https://colab.research.google.com/github/InannaxX07/ANUSHREE_SCIFOR/blob/main/Self_Practice_OOPs.ipynb\" target=\"_parent\"><img src=\"https://colab.research.google.com/assets/colab-badge.svg\" alt=\"Open In Colab\"/></a>"
      ]
    },
    {
      "cell_type": "markdown",
      "source": [
        "#Inventory Management System:\n",
        "\n",
        "This code simulates a basic inventory management system with products, their quantities, and functionalities for adding, removing, and displaying inventory."
      ],
      "metadata": {
        "id": "OSOgPqe7wTm8"
      }
    },
    {
      "cell_type": "code",
      "source": [
        "class Product:\n",
        "\n",
        "\n",
        "  def __init__(self, name, price, quantity):\n",
        "    self.name = name\n",
        "    self.price = price\n",
        "    self.quantity = quantity\n",
        "\n",
        "  def __str__(self):\n",
        "\n",
        "    return f\"{self.name} (Price: {self.price:.2f}, Quantity: {self.quantity})\"\n",
        "\n",
        "class Inventory:\n",
        "\n",
        "\n",
        "  def __init__(self):\n",
        "    self.products = []\n",
        "\n",
        "  def add_product(self, product):\n",
        "\n",
        "    self.products.append(product)\n",
        "\n",
        "  def remove_product(self, product_name, quantity):\n",
        "\n",
        "    for product in self.products:\n",
        "      if product.name == product_name:\n",
        "        if product.quantity < quantity:\n",
        "          print(f\"Insufficient quantity of {product.name}. Only {product.quantity} available.\")\n",
        "          return False\n",
        "        product.quantity -= quantity\n",
        "        return True\n",
        "    print(f\"Product '{product_name}' not found in inventory.\")\n",
        "    return False\n",
        "\n",
        "  def display_inventory(self):\n",
        "\n",
        "    if not self.products:\n",
        "      print(\"Inventory is empty.\")\n",
        "      return\n",
        "    print(\"Current Inventory:\")\n",
        "    for product in self.products:\n",
        "      print(product)\n",
        "\n",
        "# Example usage\n",
        "inventory = Inventory()\n",
        "\n",
        "inventory.add_product(Product(\"Shirt\", 19.99, 10))\n",
        "inventory.add_product(Product(\"Jeans\", 39.95, 5))\n",
        "inventory.add_product(Product(\"Hat\", 14.50, 2))\n",
        "\n",
        "inventory.display_inventory()\n",
        "inventory.remove_product(\"Shirt\", 3)\n",
        "inventory.remove_product(\"Shoes\", 2)\n",
        "inventory.remove_product(\"Jeans\", 7)\n",
        "\n",
        "inventory.display_inventory()"
      ],
      "metadata": {
        "colab": {
          "base_uri": "https://localhost:8080/"
        },
        "id": "DBMtT5OjwXRO",
        "outputId": "dbdf4ac4-67ad-4a8f-c12e-22c49e935a98"
      },
      "execution_count": 2,
      "outputs": [
        {
          "output_type": "stream",
          "name": "stdout",
          "text": [
            "Current Inventory:\n",
            "Shirt (Price: 19.99, Quantity: 10)\n",
            "Jeans (Price: 39.95, Quantity: 5)\n",
            "Hat (Price: 14.50, Quantity: 2)\n",
            "Product 'Shoes' not found in inventory.\n",
            "Insufficient quantity of Jeans. Only 5 available.\n",
            "Current Inventory:\n",
            "Shirt (Price: 19.99, Quantity: 7)\n",
            "Jeans (Price: 39.95, Quantity: 5)\n",
            "Hat (Price: 14.50, Quantity: 2)\n"
          ]
        }
      ]
    }
  ]
}
