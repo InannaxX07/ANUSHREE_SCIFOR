{
  "nbformat": 4,
  "nbformat_minor": 0,
  "metadata": {
    "colab": {
      "provenance": [],
      "authorship_tag": "ABX9TyOuqrMZLS6Lawf5ocL+rYjT",
      "include_colab_link": true
    },
    "kernelspec": {
      "name": "python3",
      "display_name": "Python 3"
    },
    "language_info": {
      "name": "python"
    }
  },
  "cells": [
    {
      "cell_type": "markdown",
      "metadata": {
        "id": "view-in-github",
        "colab_type": "text"
      },
      "source": [
        "<a href=\"https://colab.research.google.com/github/InannaxX07/ANUSHREE_SCIFOR/blob/main/Practice_session_5th_june.ipynb\" target=\"_parent\"><img src=\"https://colab.research.google.com/assets/colab-badge.svg\" alt=\"Open In Colab\"/></a>"
      ]
    },
    {
      "cell_type": "code",
      "execution_count": 8,
      "metadata": {
        "colab": {
          "base_uri": "https://localhost:8080/"
        },
        "id": "FEQIW4E5tdKr",
        "outputId": "055f1f50-c742-468f-8b68-34efc72229e1"
      },
      "outputs": [
        {
          "output_type": "stream",
          "name": "stdout",
          "text": [
            "Number 3 is at position 2.\n",
            "Updated list: [2, 3, 4, 5, 6]\n"
          ]
        }
      ],
      "source": [
        "numbers = [2, 3, 4, 5]\n",
        "try:\n",
        "  position = numbers.index(3)\n",
        "  print(f\"Number 3 is at position {position + 1}.\")\n",
        "except ValueError:\n",
        "  print(\"Number 3 not found in the list.\")\n",
        "\n",
        "numbers.append(6)\n",
        "\n",
        "print(\"Updated list:\", numbers)\n"
      ]
    }
  ]
}
