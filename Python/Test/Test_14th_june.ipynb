{
  "nbformat": 4,
  "nbformat_minor": 0,
  "metadata": {
    "colab": {
      "provenance": [],
      "authorship_tag": "ABX9TyN2CL2x2pSKEmg1hkPdKOzZ",
      "include_colab_link": true
    },
    "kernelspec": {
      "name": "python3",
      "display_name": "Python 3"
    },
    "language_info": {
      "name": "python"
    }
  },
  "cells": [
    {
      "cell_type": "markdown",
      "metadata": {
        "id": "view-in-github",
        "colab_type": "text"
      },
      "source": [
        "<a href=\"https://colab.research.google.com/github/InannaxX07/ANUSHREE_SCIFOR/blob/main/Test_14th_june.ipynb\" target=\"_parent\"><img src=\"https://colab.research.google.com/assets/colab-badge.svg\" alt=\"Open In Colab\"/></a>"
      ]
    },
    {
      "cell_type": "markdown",
      "source": [
        "#Documentation in python on :\n",
        "Encapsulation basics and real life example implementation."
      ],
      "metadata": {
        "id": "26AsIDX-0dPX"
      }
    },
    {
      "cell_type": "markdown",
      "source": [
        "#Encapsulation:\n",
        "Encapsulation is one of the main pillars of OOPs in python.\n",
        "\n",
        "1.   It ensures that all the data and related attributes are encapsulated in one single unit like an object.\n",
        "2.   This is essential for making our code compact to avoid excessive complexity and confusion.\n",
        "3. This also modulates the data into one single module to be reused easily, making the code reusable efficiently.\n",
        "4. Encapsulation also ensures that our data is secured when accompanied by abstraction. This attribute ensures that data is secured inside a single unit and can be easily hidden from unwanted eyes.\n",
        "\n",
        "Encapsulation is also very helpful because of its ability to use public and private attributes:\n",
        "\n",
        "1. Public attributes: Declared without any underscores (_) in their names. These attributes are freely accessible from outside the class.\n",
        "2. Private attributes: Declared with double underscores (__) preceding their names. By convention, these attributes are meant to be accessed only within the class methods and not directly from outside. Python enforces this through name mangling, but it's better to follow the convention for clarity.\n",
        "\n",
        "Lets take a look at encapsulation with help of an example:\n",
        "\n",
        "--> Create a class Student.\n",
        "\n"
      ],
      "metadata": {
        "id": "kLNxix-R2NAK"
      }
    },
    {
      "cell_type": "code",
      "source": [
        "class Student:\n",
        "  def __init__(self, name, age):\n",
        "    self.name = name  # Public attribute\n",
        "    self.__grade = age  # Private attribute\n",
        "\n",
        "  def get_grade(self):\n",
        "    return self.__grade\n",
        "\n",
        "  def set_grade(self, new_grade):\n",
        "    if 0 <= new_grade <= 100:\n",
        "      self.__grade = new_grade\n",
        "    else:\n",
        "      print(\"Invalid grade! Grade must be between 0 and 100.\")\n",
        "\n",
        "\n",
        "student1 = Student(\"Example\", 85)\n",
        "\n",
        "# Access public attribute directly\n",
        "print(student1.name)\n",
        "\n",
        "\n",
        "# Access and modify grade using class methods\n",
        "print(student1.get_grade())\n",
        "student1.set_grade(90)\n",
        "print(student1.get_grade())  # (after successful update)\n",
        "student1.set_grade(-10)  # (invalid grade)\n"
      ],
      "metadata": {
        "colab": {
          "base_uri": "https://localhost:8080/"
        },
        "id": "3ukWdFqM6Odd",
        "outputId": "a141744c-ae48-43c6-e875-fe1cfc80ca52"
      },
      "execution_count": 2,
      "outputs": [
        {
          "output_type": "stream",
          "name": "stdout",
          "text": [
            "Example\n",
            "85\n",
            "90\n",
            "Invalid grade! Grade must be between 0 and 100.\n"
          ]
        }
      ]
    },
    {
      "cell_type": "markdown",
      "source": [
        "--> In this example, the Student class encapsulates the student's name (public) and grade (private). The get_grade and set_grade methods provide controlled access to the grade, ensuring its validity (between 0 and 100) during modification."
      ],
      "metadata": {
        "id": "4sDtow0S6tXW"
      }
    }
  ]
}
