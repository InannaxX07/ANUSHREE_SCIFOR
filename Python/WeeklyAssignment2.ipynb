{
  "nbformat": 4,
  "nbformat_minor": 0,
  "metadata": {
    "colab": {
      "provenance": [],
      "authorship_tag": "ABX9TyNMtPy1P0ixlq8COMN2vtC9",
      "include_colab_link": true
    },
    "kernelspec": {
      "name": "python3",
      "display_name": "Python 3"
    },
    "language_info": {
      "name": "python"
    }
  },
  "cells": [
    {
      "cell_type": "markdown",
      "metadata": {
        "id": "view-in-github",
        "colab_type": "text"
      },
      "source": [
        "<a href=\"https://colab.research.google.com/github/InannaxX07/ANUSHREE_SCIFOR/blob/main/Assignment2.ipynb\" target=\"_parent\"><img src=\"https://colab.research.google.com/assets/colab-badge.svg\" alt=\"Open In Colab\"/></a>"
      ]
    },
    {
      "cell_type": "markdown",
      "source": [
        "#String Manipulation\n",
        "\n",
        "Code 1: Concatenation"
      ],
      "metadata": {
        "id": "bTI1hZiuino7"
      }
    },
    {
      "cell_type": "code",
      "execution_count": 2,
      "metadata": {
        "colab": {
          "base_uri": "https://localhost:8080/"
        },
        "id": "dfBlr9s3ijwd",
        "outputId": "90436567-2d1e-40f1-f400-1b061e50fdd4"
      },
      "outputs": [
        {
          "output_type": "stream",
          "name": "stdout",
          "text": [
            "Anushree Asthana\n"
          ]
        }
      ],
      "source": [
        "first_name=\"Anushree\"\n",
        "last_name=\"Asthana\"\n",
        "full_name=first_name+\" \"+last_name\n",
        "print(full_name)\n"
      ]
    },
    {
      "cell_type": "markdown",
      "source": [
        "Code 2: Uppercase shift"
      ],
      "metadata": {
        "id": "qxWb_y3KjV3L"
      }
    },
    {
      "cell_type": "code",
      "source": [
        "text=\"hello world\"\n",
        "text_uppercase=text.upper()\n",
        "print(text_uppercase)"
      ],
      "metadata": {
        "colab": {
          "base_uri": "https://localhost:8080/"
        },
        "id": "8ripwmQBjZVy",
        "outputId": "c9507fe4-3d0f-4dd8-a351-91a365d68d1b"
      },
      "execution_count": 3,
      "outputs": [
        {
          "output_type": "stream",
          "name": "stdout",
          "text": [
            "HELLO WORLD\n"
          ]
        }
      ]
    },
    {
      "cell_type": "markdown",
      "source": [
        "Code 3: Find length of string"
      ],
      "metadata": {
        "id": "_4LN3UBqjnVE"
      }
    },
    {
      "cell_type": "code",
      "source": [
        "text=\"hello world\"\n",
        "text_length=len(text)\n",
        "print(text_length)"
      ],
      "metadata": {
        "colab": {
          "base_uri": "https://localhost:8080/"
        },
        "id": "k-4bIem1juwv",
        "outputId": "47aa68db-caa4-46ae-e51d-200db27b1991"
      },
      "execution_count": 4,
      "outputs": [
        {
          "output_type": "stream",
          "name": "stdout",
          "text": [
            "11\n"
          ]
        }
      ]
    },
    {
      "cell_type": "markdown",
      "source": [
        "Code 4: Extracting a substring"
      ],
      "metadata": {
        "id": "hMbc_SL9j6jk"
      }
    },
    {
      "cell_type": "code",
      "source": [
        "text=\"hello world\"\n",
        "substring=text[4:11]\n",
        "print(substring)"
      ],
      "metadata": {
        "colab": {
          "base_uri": "https://localhost:8080/"
        },
        "id": "YueQ1lZrkAHF",
        "outputId": "44a270d8-16f7-4f71-e0f3-51c0d10b3d80"
      },
      "execution_count": 5,
      "outputs": [
        {
          "output_type": "stream",
          "name": "stdout",
          "text": [
            "o world\n"
          ]
        }
      ]
    },
    {
      "cell_type": "markdown",
      "source": [
        "Code 5: Replacing part of string"
      ],
      "metadata": {
        "id": "l9-RjtBEkQEt"
      }
    },
    {
      "cell_type": "code",
      "source": [
        "text=\"Welcome to the mall\"\n",
        "new_text=text.replace(\"mall\", \"world\")\n",
        "print(new_text)"
      ],
      "metadata": {
        "colab": {
          "base_uri": "https://localhost:8080/"
        },
        "id": "zrbf-GnXkUoo",
        "outputId": "8253fc0d-b7b2-48b3-e2ff-9ca209b0f9e0"
      },
      "execution_count": 6,
      "outputs": [
        {
          "output_type": "stream",
          "name": "stdout",
          "text": [
            "Welcome to the world\n"
          ]
        }
      ]
    },
    {
      "cell_type": "markdown",
      "source": [
        "Code 6: Reverse a string"
      ],
      "metadata": {
        "id": "YH804FLIk181"
      }
    },
    {
      "cell_type": "code",
      "source": [
        "text=\"hello world\"\n",
        "reverse_text=text[::-1]\n",
        "print(reverse_text)"
      ],
      "metadata": {
        "colab": {
          "base_uri": "https://localhost:8080/"
        },
        "id": "_Pk3rNArk60n",
        "outputId": "a648373a-1075-4483-8bde-595f281d4913"
      },
      "execution_count": 10,
      "outputs": [
        {
          "output_type": "stream",
          "name": "stdout",
          "text": [
            "dlrow olleh\n"
          ]
        }
      ]
    }
  ]
}
