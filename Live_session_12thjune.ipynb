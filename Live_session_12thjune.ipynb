{
  "nbformat": 4,
  "nbformat_minor": 0,
  "metadata": {
    "colab": {
      "provenance": [],
      "authorship_tag": "ABX9TyNfwqJ4tNVhXVdlCDGp29tl",
      "include_colab_link": true
    },
    "kernelspec": {
      "name": "python3",
      "display_name": "Python 3"
    },
    "language_info": {
      "name": "python"
    }
  },
  "cells": [
    {
      "cell_type": "markdown",
      "metadata": {
        "id": "view-in-github",
        "colab_type": "text"
      },
      "source": [
        "<a href=\"https://colab.research.google.com/github/InannaxX07/ANUSHREE_SCIFOR/blob/main/Live_session_12thjune.ipynb\" target=\"_parent\"><img src=\"https://colab.research.google.com/assets/colab-badge.svg\" alt=\"Open In Colab\"/></a>"
      ]
    },
    {
      "cell_type": "code",
      "execution_count": 1,
      "metadata": {
        "colab": {
          "base_uri": "https://localhost:8080/"
        },
        "id": "d81iLwwktW9u",
        "outputId": "8745dacc-8f9a-4354-bd99-8a79d874e0eb"
      },
      "outputs": [
        {
          "output_type": "stream",
          "name": "stdout",
          "text": [
            "Model S\n",
            "Tesla\n"
          ]
        }
      ],
      "source": [
        "#ENCAPSULATION\n",
        "\n",
        "class Car:\n",
        "    def __init__(self, brand, model, year):\n",
        "        # self.__brand = brand  # Encapsulate with double underscore #private attribute\n",
        "        self.__brand = brand\n",
        "        self.model = model\n",
        "        self.year = year\n",
        "\n",
        "    def get_brand(self):  # Public method to access private attribute\n",
        "        return self.__brand\n",
        "\n",
        "    def accelerate(self):\n",
        "        print(f\"The {self.model} is accelerating!\")\n",
        "\n",
        "# Create a Car object\n",
        "my_car = Car(\"Tesla\", \"Model S\", 2023)\n",
        "\n",
        "# Access public attribute\n",
        "print(my_car.model)\n",
        "\n",
        "print(my_car.get_brand())\n",
        "\n",
        ""
      ]
    },
    {
      "cell_type": "code",
      "source": [
        "#POLYMORPHISM\n",
        "\n",
        "class Animal: #parent class\n",
        "    def make_sound(self):\n",
        "        print(\"Generic animal sound\")\n",
        "\n",
        "class Dog(Animal): #subclass \"dog\" inheriting from Animal  #subclasss - dog inherting from \"Animal\" class\n",
        "    def make_sound(self):\n",
        "        print(\"Woof!\")\n",
        "\n",
        "\n",
        "class Cat(Animal): #subclass \"cat\" inheriting from parent class \"Animal\"\n",
        "    def make_sound(self):\n",
        "        print(\"Meow!\")\n",
        "\n",
        "\n",
        "def speak(animal): #speak - method responsible for polymorphism, animal : object\n",
        "    animal.make_sound()  # Polymorphic behavior\n",
        "\n",
        "# Create Animal objects\n",
        "dog = Dog()\n",
        "cat = Cat()\n",
        "\n",
        "speak(dog)  # Output: Woof!\n",
        "speak(cat)  # Output: Meow!"
      ],
      "metadata": {
        "colab": {
          "base_uri": "https://localhost:8080/"
        },
        "id": "AGXOyHxmttE1",
        "outputId": "ccf9893b-e1e3-43d9-8aae-ad31d54c8d38"
      },
      "execution_count": 2,
      "outputs": [
        {
          "output_type": "stream",
          "name": "stdout",
          "text": [
            "Woof!\n",
            "Meow!\n"
          ]
        }
      ]
    },
    {
      "cell_type": "code",
      "source": [
        "#SINGLE LEVEL INHERITANCE - one base class/ one dervied class\n",
        "\n",
        "# Base class\n",
        "class Animal:\n",
        "    def speak(self):\n",
        "        print(\"Animal speaks\")\n",
        "\n",
        "# Derived class\n",
        "class Dog(Animal):\n",
        "    def bark(self):\n",
        "        print(\"Dog barks\")\n",
        "\n",
        "# Create an instance of Dog\n",
        "dog = Dog()\n",
        "dog.speak()  # Inherited method #output - animal speaks\n",
        "dog.bark()   # Method of Dog class\n"
      ],
      "metadata": {
        "colab": {
          "base_uri": "https://localhost:8080/"
        },
        "id": "-oRuywSLtzbd",
        "outputId": "5ddf2b95-056b-4051-dfb0-ef5baea3e69a"
      },
      "execution_count": 3,
      "outputs": [
        {
          "output_type": "stream",
          "name": "stdout",
          "text": [
            "Animal speaks\n",
            "Dog barks\n"
          ]
        }
      ]
    },
    {
      "cell_type": "code",
      "source": [
        "#multi level inheritance\n",
        "\n",
        "# Base class #self - use to acessing the instances variables and methods\n",
        "class Animal:\n",
        "    def speak(self):\n",
        "        print(\"Animal speaks\")\n",
        "\n",
        "# Derived class\n",
        "class Dog(Animal):\n",
        "    def bark(self):\n",
        "        print(\"Dog barks\")\n",
        "\n",
        "# Further derived class\n",
        "class Puppy(Dog):\n",
        "    def cry(self):\n",
        "        print(\"Puppy cries\")\n",
        "\n",
        "\n",
        "# Create an instance of Puppy\n",
        "puppy = Puppy()\n",
        "\n",
        "puppy.speak()  # Inherited from Animal\n",
        "puppy.bark()   # Inherited from Dog\n",
        "puppy.cry()    # Method of Puppy class\n",
        ""
      ],
      "metadata": {
        "colab": {
          "base_uri": "https://localhost:8080/"
        },
        "id": "1qdaZnkut4P1",
        "outputId": "07c06397-1efc-491b-e686-6b9ad00b39d7"
      },
      "execution_count": 4,
      "outputs": [
        {
          "output_type": "stream",
          "name": "stdout",
          "text": [
            "Animal speaks\n",
            "Dog barks\n",
            "Puppy cries\n"
          ]
        }
      ]
    },
    {
      "cell_type": "code",
      "source": [
        "#METHOD OVERRIDING\n",
        "\n",
        "class Animal :\n",
        "  def make_sound (self) :\n",
        "    return \"generic\"\n",
        "\n",
        "class Dog(Animal):\n",
        "  def make_sound(self):\n",
        "    return \"woof\"\n",
        "\n",
        "class Cat(Animal):\n",
        "  def make_sound (self):\n",
        "    return \"meow\"\n",
        "\n",
        "# ques - do all the print statement will get printed in output ?\n",
        "\n",
        "# make instance+call instance\n",
        "\n",
        "dog=Dog()\n",
        "cat=Cat()\n",
        "\n",
        "print(dog.make_sound())\n",
        "print(cat.make_sound())\n"
      ],
      "metadata": {
        "colab": {
          "base_uri": "https://localhost:8080/"
        },
        "id": "xLckpxryt-dN",
        "outputId": "bec66b97-2bac-4348-88ce-33563c3bced4"
      },
      "execution_count": 5,
      "outputs": [
        {
          "output_type": "stream",
          "name": "stdout",
          "text": [
            "woof\n",
            "meow\n"
          ]
        }
      ]
    },
    {
      "cell_type": "code",
      "source": [
        "#multiple level\n",
        "\n",
        "# Base class 1\n",
        "class Father:\n",
        "    def skills(self):\n",
        "        print(\"Father's skills\")\n",
        "\n",
        "# Base class 2\n",
        "class Mother:\n",
        "    def skills(self):\n",
        "        print(\"Mother's skills\")\n",
        "\n",
        "# Derived class\n",
        "class Child(Father, Mother): #multiple level inheritance going on here!\n",
        "    def skills(self):\n",
        "        super().skills()  # Calls the first class in the MRO (Method Resolution Order)\n",
        "        print(\"Child's skills\")\n",
        "\n",
        "# Create an instance of Child\n",
        "child = Child()\n",
        "mother = Mother()\n",
        "child.skills()  # This will call Child's skills method\n",
        "\n",
        "\n",
        ""
      ],
      "metadata": {
        "colab": {
          "base_uri": "https://localhost:8080/"
        },
        "id": "JHfgCRZ1uGDl",
        "outputId": "02f26613-3018-4121-9a47-61f2d1389118"
      },
      "execution_count": 6,
      "outputs": [
        {
          "output_type": "stream",
          "name": "stdout",
          "text": [
            "Father's skills\n",
            "Child's skills\n"
          ]
        }
      ]
    },
    {
      "cell_type": "code",
      "source": [
        "#hierarchical\n",
        "\n",
        "# Base class\n",
        "class Animal:\n",
        "    def speak(self):\n",
        "        print(\"Animal speaks\")\n",
        "\n",
        "# Derived class 1\n",
        "class Dog(Animal):\n",
        "    def bark(self):\n",
        "        print(\"Dog barks\")\n",
        "\n",
        "# Derived class 2\n",
        "class Cat(Animal):\n",
        "    def meow(self):\n",
        "        print(\"Cat meows\")\n",
        "\n",
        "# Create instances of Dog and Cat\n",
        "dog = Dog()\n",
        "cat = Cat()\n",
        "\n",
        "dog.speak()  # Inherited method calls\n",
        "dog.bark()   # Method of Dog class\n",
        "\n",
        "cat.speak()  # Inherited method\n",
        "cat.meow()   # Method of Cat class\n"
      ],
      "metadata": {
        "colab": {
          "base_uri": "https://localhost:8080/"
        },
        "id": "92-HbHEquLIW",
        "outputId": "e03f7335-202a-4831-c942-6ac4a8aae31f"
      },
      "execution_count": 7,
      "outputs": [
        {
          "output_type": "stream",
          "name": "stdout",
          "text": [
            "Animal speaks\n",
            "Dog barks\n",
            "Animal speaks\n",
            "Cat meows\n"
          ]
        }
      ]
    },
    {
      "cell_type": "code",
      "source": [
        "#Hybrid Inheritance = combination multiple inheritance + multi-level inheritance\n",
        "\n",
        "# Base class / name - attribute\n",
        "class Animal:\n",
        "    def __init__(self, name):\n",
        "        self.name = name\n",
        "\n",
        "    def speak(self):\n",
        "        print(f\"{self.name} makes a sound\")\n",
        "\n",
        "# Single inheritance\n",
        "class Dog(Animal):\n",
        "    def speak(self):\n",
        "        print(f\"{self.name} says Woof!\")\n",
        "\n",
        "# Multilevel inheritance\n",
        "class Puppy(Dog):\n",
        "    def speak(self):\n",
        "        print(f\"{self.name} says Yip!\")\n",
        "\n",
        "# Another base class\n",
        "class Bird:\n",
        "    def __init__(self, name):\n",
        "        self.name = name\n",
        "\n",
        "    def fly(self):\n",
        "        print(f\"{self.name} can fly\")\n",
        "\n",
        "# Multiple inheritance\n",
        "#FLYING DOG - BASE CLASS OR PARENT = INHERITED FROM DOG AND BIRD\n",
        "class FlyingDog(Dog, Bird):\n",
        "    def __init__(self, name):\n",
        "        Dog.__init__(self, name)\n",
        "        Bird.__init__(self, name)\n",
        "\n",
        "    def speak(self):\n",
        "        Dog.speak(self)\n",
        "        Bird.fly(self)\n",
        "\n",
        "# Hybrid inheritance\n",
        "class FlyingPuppy(Puppy, Bird):\n",
        "    def __init__(self, name):\n",
        "        Puppy.__init__(self, name)\n",
        "        Bird.__init__(self, name)\n",
        "\n",
        "    def speak(self):\n",
        "        Puppy.speak(self)\n",
        "        Bird.fly(self)\n",
        "\n",
        "# Create instances\n",
        "dog = Dog(\"Buddy\")\n",
        "puppy = Puppy(\"Fluffy\")\n",
        "flying_dog = FlyingDog(\"Sky\")\n",
        "flying_puppy = FlyingPuppy(\"Wings\")\n",
        "\n",
        "# Test the methods\n",
        "dog.speak()             # Output: Buddy says Woof!\n",
        "puppy.speak()           # Output: Fluffy says Yip!\n",
        "flying_dog.speak()      # Output: Sky says Woof! \\n Sky can fly\n",
        "flying_puppy.speak()\n",
        "\n"
      ],
      "metadata": {
        "colab": {
          "base_uri": "https://localhost:8080/"
        },
        "id": "mt3IGP4Pucz-",
        "outputId": "8169b63c-1bd0-471d-8ef9-9473a3e3ef3d"
      },
      "execution_count": 8,
      "outputs": [
        {
          "output_type": "stream",
          "name": "stdout",
          "text": [
            "Buddy says Woof!\n",
            "Fluffy says Yip!\n",
            "Sky says Woof!\n",
            "Sky can fly\n",
            "Wings says Yip!\n",
            "Wings can fly\n"
          ]
        }
      ]
    }
  ]
}