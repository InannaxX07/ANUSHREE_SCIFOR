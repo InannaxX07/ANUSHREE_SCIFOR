{
  "nbformat": 4,
  "nbformat_minor": 0,
  "metadata": {
    "colab": {
      "provenance": [],
      "authorship_tag": "ABX9TyM4DIFhvNCLfFv4LPvKA/oY",
      "include_colab_link": true
    },
    "kernelspec": {
      "name": "python3",
      "display_name": "Python 3"
    },
    "language_info": {
      "name": "python"
    }
  },
  "cells": [
    {
      "cell_type": "markdown",
      "metadata": {
        "id": "view-in-github",
        "colab_type": "text"
      },
      "source": [
        "<a href=\"https://colab.research.google.com/github/InannaxX07/ANUSHREE_SCIFOR/blob/main/PythonTest_7thJune.ipynb\" target=\"_parent\"><img src=\"https://colab.research.google.com/assets/colab-badge.svg\" alt=\"Open In Colab\"/></a>"
      ]
    },
    {
      "cell_type": "markdown",
      "source": [
        "#Q1 Encapsulation\n",
        "Is the practice of bundling up of all attributes into one single bundle.\n",
        "This is done to ensure that our data is formed into a single unit which helps with the reusability of the code.\n",
        "There's no need to re-write all the encapsulated data it can just be inherited in one go and used for its attributes.\n",
        "object and classes help with the implementation of encapsulation\n",
        "An example would be how Units are made for unit testing and further integration testing is performed on some units encapsulated together.\n",
        "\n",
        "\n"
      ],
      "metadata": {
        "id": "xtjiSsBe7RFA"
      }
    },
    {
      "cell_type": "code",
      "source": [
        " class Player:\n",
        "  def __init__(self, name):\n",
        "    self.__health = 100\n",
        "\n",
        "  def hit(self, damage):\n",
        "    self.__health -= damage\n",
        "    if self.__health <= 0:\n",
        "      print(f\"{self.name} is knocked out!\")\n",
        "      self.__health = 0\n",
        "\n",
        "  def get_health(self):\n",
        "    return self.__health\n",
        "\n",
        "\n",
        "player1 = Player(\"Anushree\")\n",
        "\n",
        "\n",
        "print(player1.get_health())\n",
        "\n",
        "\n",
        "player1.hit(20)\n",
        "print(player1.get_health())\n"
      ],
      "metadata": {
        "colab": {
          "base_uri": "https://localhost:8080/"
        },
        "id": "ljU38qHG7aTS",
        "outputId": "4ead92f7-f2cb-4c14-9be9-57bb7c2ecbdb"
      },
      "execution_count": 8,
      "outputs": [
        {
          "output_type": "stream",
          "name": "stdout",
          "text": [
            "100\n",
            "80\n"
          ]
        }
      ]
    },
    {
      "cell_type": "markdown",
      "source": [
        "#Q2 Polymorphism\n",
        "Poly-Many\n",
        "Morph-forms\n",
        "Polymorphism means the ability of a function, method or any attribute) to perform various actswhile being coded only once with one definition\n",
        "It helps with the Re-usability and is very efficient in reducing space complexity.\n",
        "Our program can call upon the same method to perform various actionsas required at different places or instances.\n",
        "An example would be using the same method for concatening two strings as well as giving sum of two numbers."
      ],
      "metadata": {
        "id": "kZrUnC6Q8u4S"
      }
    },
    {
      "cell_type": "code",
      "source": [
        "class Animal:\n",
        "  def make_sound(self):\n",
        "    print(\"Generic animal sound\")\n",
        "\n",
        "class Dog(Animal):\n",
        "  def make_sound(self):\n",
        "    print(\"Woof!\")\n",
        "\n",
        "class Cat(Animal):\n",
        "  def make_sound(self):\n",
        "    print(\"Meow!\")\n",
        "\n",
        "# Create animal objects\n",
        "animals = [Dog(), Cat(), Animal()]\n",
        "\n",
        "for animal in animals:\n",
        "  animal.make_sound()\n"
      ],
      "metadata": {
        "colab": {
          "base_uri": "https://localhost:8080/"
        },
        "id": "M1RSrwDB-KTb",
        "outputId": "9fadeb7e-87b0-430c-943d-79b0713931d8"
      },
      "execution_count": 3,
      "outputs": [
        {
          "output_type": "stream",
          "name": "stdout",
          "text": [
            "Woof!\n",
            "Meow!\n",
            "Generic animal sound\n"
          ]
        }
      ]
    },
    {
      "cell_type": "markdown",
      "source": [
        "#Q3 Single-level inheritance\n",
        "The following code shows an example for single level inheritance.\n",
        "This is a basic example showcasing how a child class (Car) inherits properties and methods from a parent class (Vehicle) in Python, allowing for code reuse and efficiency."
      ],
      "metadata": {
        "id": "Juhzt_sh_Ukk"
      }
    },
    {
      "cell_type": "code",
      "source": [
        "class Vehicle:\n",
        "  def __init__(self, color):\n",
        "    self.color = color\n",
        "\n",
        "  def move(self):\n",
        "    print(\"The vehicle is moving.\")\n",
        "\n",
        "class Car(Vehicle):  # Single-level inheritance\n",
        "  def __init__(self, color, wheels):\n",
        "    super().__init__(color)\n",
        "    self.wheels = wheels\n",
        "\n",
        "  def honk_horn(self):\n",
        "    print(\"Beep beep!\")\n",
        "\n",
        "\n",
        "car1 = Car(\"Red\", 4)\n",
        "\n",
        "\n",
        "print(car1.color)\n",
        "car1.move()\n",
        "\n",
        "car1.honk_horn()\n"
      ],
      "metadata": {
        "colab": {
          "base_uri": "https://localhost:8080/"
        },
        "id": "b5ewSeAA_qOO",
        "outputId": "81a050ae-b589-4297-e2bd-c874b5f8edc8"
      },
      "execution_count": 9,
      "outputs": [
        {
          "output_type": "stream",
          "name": "stdout",
          "text": [
            "Red\n",
            "The vehicle is moving.\n",
            "Beep beep!\n"
          ]
        }
      ]
    },
    {
      "cell_type": "markdown",
      "source": [
        "#Q4 Multiple inheritance\n",
        "The following code shows an exaple of multiple inheritance.\n",
        "Each class adds its own attribute (sport for Athlete, instrument for Musician) and specific method (train for Athlete, practice for Musician).\n",
        "We create objects (athlete1 and musician1) using the classes with multiple inheritance.\n",
        "We call methods on the objects, demonstrating how they inherit the perform method from Skill, along with their own specific methods (train and practice)."
      ],
      "metadata": {
        "id": "5g8BFlY3AHgL"
      }
    },
    {
      "cell_type": "code",
      "source": [
        "class Skill:\n",
        "  def __init__(self, level):\n",
        "    self.level = level\n",
        "\n",
        "  def perform(self):\n",
        "    print(f\"Performing skill at level {self.level}\")\n",
        "\n",
        "class Athlete(Skill):\n",
        "  def __init__(self, level, sport):\n",
        "    super().__init__(level)\n",
        "    self.sport = sport\n",
        "\n",
        "  def train(self):\n",
        "    print(f\"Training for {self.sport} to improve skill\")\n",
        "\n",
        "class Musician(Skill):\n",
        "  def __init__(self, level, instrument):\n",
        "    super().__init__(level)\n",
        "    self.instrument = instrument\n",
        "\n",
        "  def practice(self):\n",
        "    print(f\"Practicing {self.instrument} to improve skill\")\n",
        "\n",
        "athlete1 = Athlete(8, \"Basketball\")\n",
        "musician1 = Musician(7, \"Guitar\")\n",
        "\n",
        "athlete1.perform()\n",
        "athlete1.train()\n",
        "\n",
        "musician1.perform()\n",
        "musician1.practice()\n"
      ],
      "metadata": {
        "id": "xnZl6gRgAbRS"
      },
      "execution_count": null,
      "outputs": []
    },
    {
      "cell_type": "markdown",
      "source": [
        "#Q5 Multi-level inheritance\n",
        "this code shows an example of multi-level inheritance effectively.\n",
        "This is a basic example showing how a class (Dog) can inherit properties and methods from multiple parent classes (Mammal and Animal) in a sequential manner.\n",
        "We create a Dog object (dog1), demonstrating how it inherits attributes and methods from all levels of the inheritance hierarchy."
      ],
      "metadata": {
        "id": "h1AfVpt1A_jD"
      }
    },
    {
      "cell_type": "code",
      "source": [
        "class Animal:\n",
        "  def __init__(self, name):\n",
        "    self.name = name\n",
        "\n",
        "  def make_sound(self):\n",
        "    print(f\"{self.name} makes a generic animal sound\")\n",
        "\n",
        "class Mammal(Animal):\n",
        "  def __init__(self, name, fur_color):\n",
        "    super().__init__(name)\n",
        "    self.fur_color = fur_color\n",
        "\n",
        "class Dog(Mammal):\n",
        "  def __init__(self, name, fur_color, breed):\n",
        "    super().__init__(name, fur_color)\n",
        "    self.breed = breed\n",
        "\n",
        "  def bark(self):\n",
        "    print(f\"{self.name}, a {self.breed} dog, barks!\")\n",
        "\n",
        "\n",
        "dog1 = Dog(\"Charlie\", \"Brown\", \"Beagle\")\n",
        "\n",
        "print(dog1.name)\n",
        "dog1.make_sound()\n",
        "print(dog1.fur_color)\n",
        "dog1.bark()\n"
      ],
      "metadata": {
        "colab": {
          "base_uri": "https://localhost:8080/"
        },
        "id": "yTZTRVBWBMSG",
        "outputId": "fb4752b4-a83a-477a-f4d9-47bcb421f131"
      },
      "execution_count": 10,
      "outputs": [
        {
          "output_type": "stream",
          "name": "stdout",
          "text": [
            "Charlie\n",
            "Charlie makes a generic animal sound\n",
            "Brown\n",
            "Charlie, a Beagle dog, barks!\n"
          ]
        }
      ]
    },
    {
      "cell_type": "markdown",
      "source": [
        "#Q6 Conditional statements\n",
        "Conditional statements in Python are like decision makers for your code. They allow your code to choose which block of instructions to run based on whether a certain condition is True or False.\n",
        "In our example:\n",
        "We define an age variable.\n",
        "The if statement checks if age is greater than or equal to 18 .\n",
        "If the condition is True, the code inside the indented block is executed.\n",
        "The else block is optional. If the condition in the if statement is False, the code indented under else is executed."
      ],
      "metadata": {
        "id": "sZWSIinEBoAR"
      }
    },
    {
      "cell_type": "code",
      "source": [
        "age = 10\n",
        "\n",
        "if age >= 18:  # Checks if age is greater than or equal to 18 (condition)\n",
        "  print(\"You are an adult!\")\n",
        "else:\n",
        "  print(\"You are not an adult.\")\n"
      ],
      "metadata": {
        "colab": {
          "base_uri": "https://localhost:8080/"
        },
        "id": "14uDVFpJCFal",
        "outputId": "03740c07-227b-43de-9d9b-b7e4b73b2a9e"
      },
      "execution_count": 11,
      "outputs": [
        {
          "output_type": "stream",
          "name": "stdout",
          "text": [
            "You are not an adult.\n"
          ]
        }
      ]
    },
    {
      "cell_type": "markdown",
      "source": [
        "#Q7 Decision making statements\n",
        "Decision making statements in Python are used to control the flow of execution of a program. These statements allow us to selectively execute specific parts of the code based on certain conditions. They can also be called conditionals."
      ],
      "metadata": {
        "id": "GvphZXeVCJPe"
      }
    },
    {
      "cell_type": "code",
      "source": [
        "grade = 85\n",
        "\n",
        "if grade >= 90:\n",
        "  print(\"Excellent! You got an A.\")\n",
        "elif grade >= 80:\n",
        "  print(\"Great job! You got a B.\")\n",
        "else:\n",
        "  print(\"Keep studying! You got a C or below.\")\n"
      ],
      "metadata": {
        "colab": {
          "base_uri": "https://localhost:8080/"
        },
        "id": "ZhDMM7ojCbaT",
        "outputId": "ea0932a1-50df-4c09-cc32-201e19040a1c"
      },
      "execution_count": 12,
      "outputs": [
        {
          "output_type": "stream",
          "name": "stdout",
          "text": [
            "Great job! You got a B.\n"
          ]
        }
      ]
    },
    {
      "cell_type": "markdown",
      "source": [
        "#Q8 Factorial"
      ],
      "metadata": {
        "id": "MBsut9zWCvPb"
      }
    },
    {
      "cell_type": "code",
      "source": [
        "from math import factorial\n",
        "\n",
        "num = int(input(\"Enter a non-negative number: \"))\n",
        "\n",
        "result = factorial(num)\n",
        "print(f\"The factorial of {num} is {result}\")\n",
        "\n"
      ],
      "metadata": {
        "colab": {
          "base_uri": "https://localhost:8080/"
        },
        "id": "XJul963CC1HU",
        "outputId": "ebe03a70-a3a8-4910-8dfd-a37ae7629511"
      },
      "execution_count": 14,
      "outputs": [
        {
          "output_type": "stream",
          "name": "stdout",
          "text": [
            "Enter a non-negative number: 6\n",
            "The factorial of 6 is 720\n"
          ]
        }
      ]
    },
    {
      "cell_type": "markdown",
      "source": [
        "#Q9 Functions\n",
        "Functions are blocks of executable code that can return values within your main program. They group related instructions and give them a name. This lets you reuse that block of code easily throughout your program without rewriting it."
      ],
      "metadata": {
        "id": "f6Ky_vT9DdI8"
      }
    },
    {
      "cell_type": "code",
      "source": [
        "def greet(name):\n",
        "  \"\"\"Prints a greeting message.\"\"\"\n",
        "  print(f\"Hello, {name}!\")\n",
        "\n",
        "# Call the function with a name\n",
        "greet(\"Anushree\")\n"
      ],
      "metadata": {
        "colab": {
          "base_uri": "https://localhost:8080/"
        },
        "id": "-5auD6qMD1vR",
        "outputId": "055338b7-4676-4d09-e452-d7b4b77e87cf"
      },
      "execution_count": 15,
      "outputs": [
        {
          "output_type": "stream",
          "name": "stdout",
          "text": [
            "Hello, Anushree!\n"
          ]
        }
      ]
    },
    {
      "cell_type": "markdown",
      "source": [
        "#Q10 Pillars of OOPs\n",
        "We have the following pillars of OOPs in python:\n",
        "\n",
        "1. Inheritance\n",
        "2. Polymorphism\n",
        "3. Encapsulation\n",
        "4. Abstraction\n",
        "\n",
        "Apart from these we have Classes and Objects that help with their implementation. We also have OOPs ability to pass messages amongst various objects that help with the process.\n",
        "\n",
        "\n"
      ],
      "metadata": {
        "id": "AVFtUrnGD7Wj"
      }
    }
  ]
}
