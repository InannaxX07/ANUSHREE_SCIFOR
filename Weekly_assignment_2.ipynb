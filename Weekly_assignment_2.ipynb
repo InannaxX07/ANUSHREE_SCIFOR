{
  "nbformat": 4,
  "nbformat_minor": 0,
  "metadata": {
    "colab": {
      "provenance": [],
      "authorship_tag": "ABX9TyOpjHhKhzptPqQh2KsdrAhN",
      "include_colab_link": true
    },
    "kernelspec": {
      "name": "python3",
      "display_name": "Python 3"
    },
    "language_info": {
      "name": "python"
    }
  },
  "cells": [
    {
      "cell_type": "markdown",
      "metadata": {
        "id": "view-in-github",
        "colab_type": "text"
      },
      "source": [
        "<a href=\"https://colab.research.google.com/github/InannaxX07/ANUSHREE_SCIFOR/blob/main/Weekly_assignment_2.ipynb\" target=\"_parent\"><img src=\"https://colab.research.google.com/assets/colab-badge.svg\" alt=\"Open In Colab\"/></a>"
      ]
    },
    {
      "cell_type": "markdown",
      "source": [
        "\n",
        "**What it is:**\n",
        "\n",
        "Inferential statistics lets you draw conclusions about a large group (population) by analyzing a smaller group (sample).  Imagine you want to understand sleep habits in your city (population). Surveying everyone would be impractical, so you survey a representative sample (e.g., 100 people). Inferential statistics helps you use this sample data to make inferences about the sleep habits of the entire city.\n",
        "\n",
        "**Key Ideas:**\n",
        "\n",
        "* **Samples vs. Populations:** We can't always study entire populations, so we rely on samples. Inferential statistics helps us bridge the gap between sample data and population truths.\n",
        "* **Hypothesis Testing:** This is a core concept. You formulate a statement (hypothesis) about the population, then use sample data to assess its likelihood.  For instance, you might hypothesize that city dwellers sleep less than suburban residents.\n",
        "* **Confidence Intervals:**  These intervals estimate a range of values within which the population parameter (e.g., average sleep time) likely falls, based on your sample data.\n",
        "* **Statistical Significance:** This refers to the probability that your observed results are due to chance alone.  Inferential statistics helps you determine if a result is likely due to something real or just random fluctuation.\n",
        "\n",
        "**Common Techniques:**\n",
        "\n",
        "* **T-tests:** Used to compare means between two groups (e.g., city vs. suburban sleep times).\n",
        "* **ANOVA (Analysis of Variance):** Compares means of more than two groups.\n",
        "* **Chi-Square Tests:** Analyze relationships between categorical variables (e.g., does gender influence sleep patterns?)\n",
        "\n"
      ],
      "metadata": {
        "id": "miO9gKL1O2ME"
      }
    }
  ]
}