{
  "nbformat": 4,
  "nbformat_minor": 0,
  "metadata": {
    "colab": {
      "provenance": [],
      "authorship_tag": "ABX9TyPuwTZSKyRvwKfo1uqCOCem",
      "include_colab_link": true
    },
    "kernelspec": {
      "name": "python3",
      "display_name": "Python 3"
    },
    "language_info": {
      "name": "python"
    }
  },
  "cells": [
    {
      "cell_type": "markdown",
      "metadata": {
        "id": "view-in-github",
        "colab_type": "text"
      },
      "source": [
        "<a href=\"https://colab.research.google.com/github/InannaxX07/ANUSHREE_SCIFOR/blob/main/Test_3.ipynb\" target=\"_parent\"><img src=\"https://colab.research.google.com/assets/colab-badge.svg\" alt=\"Open In Colab\"/></a>"
      ]
    },
    {
      "cell_type": "markdown",
      "source": [
        "#Write a code in python to show all levels of inheritance\n",
        "\n",
        "\n",
        "1.   Single level\n",
        "2.   Multi level\n",
        "3. Multiple\n",
        "\n"
      ],
      "metadata": {
        "id": "LLbhcfJpJAwr"
      }
    },
    {
      "cell_type": "code",
      "execution_count": 2,
      "metadata": {
        "colab": {
          "base_uri": "https://localhost:8080/"
        },
        "id": "9IKBSaPzI9L-",
        "outputId": "13ac2a84-31f4-470b-959c-2b732fa8c439"
      },
      "outputs": [
        {
          "output_type": "stream",
          "name": "stdout",
          "text": [
            "Buddy (the dog) barks!\n"
          ]
        }
      ],
      "source": [
        "class Animal:\n",
        "  def __init__(self, name):\n",
        "    self.name = name\n",
        "\n",
        "  def make_sound(self):\n",
        "    print(\"Generic animal sound\")\n",
        "\n",
        "class Dog(Animal):\n",
        "  def __init__(self, name, breed):\n",
        "    super().__init__(name)\n",
        "    self.breed = breed\n",
        "\n",
        "  def make_sound(self):\n",
        "    print(f\"{self.name} (the dog) barks!\")\n",
        "\n",
        "\n",
        "dog1 = Dog(\"Buddy\", \"Labrador\")\n",
        "dog1.make_sound()\n"
      ]
    },
    {
      "cell_type": "code",
      "source": [
        "class Shape:\n",
        "  def __init__(self, color):\n",
        "    self.color = color\n",
        "\n",
        "class Rectangle(Shape):\n",
        "  def __init__(self, color, width, height):\n",
        "    super().__init__(color)\n",
        "    self.width = width\n",
        "    self.height = height\n",
        "\n",
        "  def get_area(self):\n",
        "    return self.width * self.height\n",
        "\n",
        "class Square(Rectangle):\n",
        "  def __init__(self, color, side_length):\n",
        "    super().__init__(color, side_length, side_length)\n",
        "\n",
        "\n",
        "square1 = Square(\"red\", 5)\n",
        "print(f\"Area of the square: {square1.get_area()}\")"
      ],
      "metadata": {
        "colab": {
          "base_uri": "https://localhost:8080/"
        },
        "id": "Z8rT9whoKc4_",
        "outputId": "370d3096-4521-418b-f9ee-2aaa996dac64"
      },
      "execution_count": 3,
      "outputs": [
        {
          "output_type": "stream",
          "name": "stdout",
          "text": [
            "Area of the square: 25\n"
          ]
        }
      ]
    },
    {
      "cell_type": "code",
      "source": [
        "class Trait1:\n",
        "  def __init__(self, name):\n",
        "    self.name = name\n",
        "\n",
        "  def say_hi(self):\n",
        "    print(f\"Hi, I'm {self.name} with trait 1\")\n",
        "\n",
        "class Trait2:\n",
        "  def __init__(self, age):\n",
        "    self.age = age\n",
        "\n",
        "  def say_age(self):\n",
        "    print(f\"I'm {self.age} years old (trait 2)\")\n",
        "\n",
        "class Combined(Trait1, Trait2):\n",
        "  def __init__(self, name, age):\n",
        "    super().__init__(name)\n",
        "    Trait2.__init__(self, age)\n",
        "\n",
        "\n",
        "combined1 = Combined(\"Alice\", 30)\n",
        "combined1.say_hi()\n",
        "combined1.say_age()\n"
      ],
      "metadata": {
        "colab": {
          "base_uri": "https://localhost:8080/"
        },
        "id": "y8ukhF52Kkz-",
        "outputId": "d7eece4f-7046-46e6-92a5-29571d0cb050"
      },
      "execution_count": 4,
      "outputs": [
        {
          "output_type": "stream",
          "name": "stdout",
          "text": [
            "Hi, I'm Alice with trait 1\n",
            "I'm 30 years old (trait 2)\n"
          ]
        }
      ]
    },
    {
      "cell_type": "markdown",
      "source": [
        "#Write a code of Method Overloading\n",
        "\n",
        " Python doesn't inherently support method overloading, which allows defining multiple methods with the same name but different parameter lists. This is because Python's function resolution is based on the argument list at call time, and it only considers the last defined method with the matching name\n",
        "\n",
        " But, we can use: Assigning default values (None) to optional arguments, allowing you to call the method with varying numbers of arguments."
      ],
      "metadata": {
        "id": "-3OAeeOVKvbz"
      }
    },
    {
      "cell_type": "code",
      "source": [
        "class Math:\n",
        "    def __init__(self):\n",
        "        pass\n",
        "\n",
        "    def add(self, x, y=None, z=None):\n",
        "        if y is None and z is None:\n",
        "            return x\n",
        "        elif z is None:\n",
        "            return x + y\n",
        "        else:\n",
        "            return x + y + z\n",
        "\n",
        "\n",
        "math_obj = Math()\n",
        "result1 = math_obj.add(5)\n",
        "result2 = math_obj.add(3, 4)\n",
        "result3 = math_obj.add(1, 2, 8)\n",
        "print (result1, result2, result3)"
      ],
      "metadata": {
        "colab": {
          "base_uri": "https://localhost:8080/"
        },
        "id": "Ouix-WDsLP5f",
        "outputId": "53f2372c-3236-4b4b-eb66-f8de4e2e0dba"
      },
      "execution_count": 8,
      "outputs": [
        {
          "output_type": "stream",
          "name": "stdout",
          "text": [
            "5 7 11\n"
          ]
        }
      ]
    },
    {
      "cell_type": "markdown",
      "source": [
        "#Write a code of Method Overriding"
      ],
      "metadata": {
        "id": "3U-ig9dgMMnv"
      }
    },
    {
      "cell_type": "code",
      "source": [
        "class Animal:\n",
        "  def __init__(self, name):\n",
        "    self.name = name\n",
        "\n",
        "  def make_sound(self):\n",
        "    print(\"Generic animal sound\")\n",
        "\n",
        "class Dog(Animal):\n",
        "  def __init__(self, name, breed):\n",
        "    super().__init__(name)\n",
        "    self.breed = breed\n",
        "\n",
        "  def make_sound(self):\n",
        "    print(f\"{self.name} (the dog) barks!\")\n",
        "\n",
        "\n",
        "animal1 = Animal(\"Fluffy\")\n",
        "animal1.make_sound()\n",
        "\n",
        "dog1 = Dog(\"Buddy\", \"Labrador\")\n",
        "dog1.make_sound()\n"
      ],
      "metadata": {
        "colab": {
          "base_uri": "https://localhost:8080/"
        },
        "id": "3becy5ooMdf3",
        "outputId": "14847574-9508-458a-fd23-08ef3c8fe0fc"
      },
      "execution_count": 9,
      "outputs": [
        {
          "output_type": "stream",
          "name": "stdout",
          "text": [
            "Generic animal sound\n",
            "Buddy (the dog) barks!\n"
          ]
        }
      ]
    }
  ]
}