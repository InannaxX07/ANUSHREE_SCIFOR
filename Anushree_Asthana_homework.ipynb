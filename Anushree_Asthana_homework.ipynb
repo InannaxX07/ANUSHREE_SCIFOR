{
  "nbformat": 4,
  "nbformat_minor": 0,
  "metadata": {
    "colab": {
      "provenance": [],
      "authorship_tag": "ABX9TyMA/VxfQ9JXAD83gk+qU6dx",
      "include_colab_link": true
    },
    "kernelspec": {
      "name": "python3",
      "display_name": "Python 3"
    },
    "language_info": {
      "name": "python"
    }
  },
  "cells": [
    {
      "cell_type": "markdown",
      "metadata": {
        "id": "view-in-github",
        "colab_type": "text"
      },
      "source": [
        "<a href=\"https://colab.research.google.com/github/InannaxX07/ANUSHREE_SCIFOR/blob/main/Anushree_Asthana_homework.ipynb\" target=\"_parent\"><img src=\"https://colab.research.google.com/assets/colab-badge.svg\" alt=\"Open In Colab\"/></a>"
      ]
    },
    {
      "cell_type": "code",
      "execution_count": null,
      "metadata": {
        "id": "U-xbBTvhxYvl"
      },
      "outputs": [],
      "source": [
        "#Is number odd or even"
      ]
    },
    {
      "cell_type": "code",
      "source": [],
      "metadata": {
        "id": "eTGJFiECTeqJ"
      },
      "execution_count": null,
      "outputs": []
    },
    {
      "cell_type": "code",
      "source": [
        "def is_even(number):\n",
        "  \"\"\"\n",
        "  This function checks if a number is even.\n",
        "\n",
        "  Args:\n",
        "    number: The number to check.\n",
        "\n",
        "  Returns:\n",
        "    \"even\" if the number is even, \"odd\" otherwise.\n",
        "  \"\"\"\n",
        "  if number % 2 == 0:\n",
        "    return \"even\"\n",
        "  else:\n",
        "    return \"odd\"\n",
        "\n",
        "# Example usage\n",
        "print(is_even(10))  # Output: even\n",
        "print(is_even(7))   # Output: odd"
      ],
      "metadata": {
        "id": "U6z6AwyZzGD9"
      },
      "execution_count": null,
      "outputs": []
    },
    {
      "cell_type": "code",
      "source": [
        "#is grade passing or failing"
      ],
      "metadata": {
        "id": "mlgZP0a7zIOd"
      },
      "execution_count": null,
      "outputs": []
    },
    {
      "cell_type": "code",
      "source": [
        "def is_passing_grade(grade):\n",
        "  \"\"\"\n",
        "  This function checks if a grade is passing (60 or above).\n",
        "\n",
        "  Args:\n",
        "    grade: The grade to check.\n",
        "\n",
        "  Returns:\n",
        "    \"passing\" if the grade is 60 or above, \"failing\" otherwise.\n",
        "  \"\"\"\n",
        "  if grade >= 60:\n",
        "    return \"passing\"\n",
        "  else:\n",
        "    return \"failing\"\n",
        "\n",
        "# Example usage\n",
        "print(is_passing_grade(85))  # Output: passing\n",
        "print(is_passing_grade(55))  # Output: failing"
      ],
      "metadata": {
        "id": "ETXc8tfhzPv1"
      },
      "execution_count": null,
      "outputs": []
    },
    {
      "cell_type": "code",
      "source": [
        "#is user old enough to vote"
      ],
      "metadata": {
        "id": "uWZwUSJPzQsY"
      },
      "execution_count": null,
      "outputs": []
    },
    {
      "cell_type": "code",
      "source": [
        "def can_vote(age):\n",
        "  \"\"\"\n",
        "  This function checks if a person is old enough to vote (18 or above).\n",
        "\n",
        "  Args:\n",
        "    age: The age of the person.\n",
        "\n",
        "  Returns:\n",
        "    \"eligible\" if the person is 18 or older, \"not eligible\" otherwise.\n",
        "  \"\"\"\n",
        "  if age >= 18:\n",
        "    return \"eligible\"\n",
        "  else:\n",
        "    return \"not eligible\"\n",
        "\n",
        "# Example usage\n",
        "print(can_vote(20))  # Output: eligible\n",
        "print(can_vote(16))  # Output: not eligible"
      ],
      "metadata": {
        "id": "iBuCNbQRzZaC"
      },
      "execution_count": null,
      "outputs": []
    },
    {
      "cell_type": "code",
      "source": [
        "#area of rectangle"
      ],
      "metadata": {
        "id": "aEjxDTMuzaOl"
      },
      "execution_count": null,
      "outputs": []
    },
    {
      "cell_type": "code",
      "source": [
        "def calculate_rectangle_area(length, width):\n",
        "  \"\"\"\n",
        "  This function calculates the area of a rectangle.\n",
        "\n",
        "  Args:\n",
        "    length: The length of the rectangle.\n",
        "    width: The width of the rectangle.\n",
        "\n",
        "  Returns:\n",
        "    The area of the rectangle.\n",
        "  \"\"\"\n",
        "  return length * width\n",
        "\n",
        "# Example usage\n",
        "area = calculate_rectangle_area(5, 3)\n",
        "print(f\"Area of the rectangle: {area}\")"
      ],
      "metadata": {
        "id": "xNkFa7Iczgnh"
      },
      "execution_count": null,
      "outputs": []
    },
    {
      "cell_type": "code",
      "source": [
        "#celsius to Fahrenheit"
      ],
      "metadata": {
        "id": "i5Knesg_ziTE"
      },
      "execution_count": null,
      "outputs": []
    },
    {
      "cell_type": "code",
      "source": [
        "def celsius_to_fahrenheit(celsius):\n",
        "  \"\"\"\n",
        "  This function converts a temperature from Celsius to Fahrenheit.\n",
        "\n",
        "  Args:\n",
        "    celsius: The temperature in Celsius.\n",
        "\n",
        "  Returns:\n",
        "    The temperature in Fahrenheit.\n",
        "  \"\"\"\n",
        "  return (celsius * 9/5) + 32\n",
        "\n",
        "# Example usage\n",
        "fahrenheit = celsius_to_fahrenheit(25)\n",
        "print(f\"{fahrenheit:.2f} degrees Fahrenheit\")"
      ],
      "metadata": {
        "id": "wTFv3_ISzqZS"
      },
      "execution_count": null,
      "outputs": []
    },
    {
      "cell_type": "code",
      "source": [
        "#check if string is palindrome"
      ],
      "metadata": {
        "id": "uO9-yUMIzvcV"
      },
      "execution_count": null,
      "outputs": []
    },
    {
      "cell_type": "code",
      "source": [
        "def is_palindrome(text):\n",
        "  \"\"\"\n",
        "  This function checks if a string is a palindrome (reads the same forwards and backwards).\n",
        "\n",
        "  Args:\n",
        "    text: The string to check.\n",
        "\n",
        "  Returns:\n",
        "    True if the string is a palindrome, False otherwise.\n",
        "  \"\"\"\n",
        "  text = text.lower().replace(\" \", \"\")\n",
        "  return text == text[::-1]\n",
        "\n",
        "# Example usage\n",
        "print(is_palindrome(\"racecar\"))  # Output: True\n",
        "print(is_palindrome(\"hello\"))   # Output: False"
      ],
      "metadata": {
        "id": "9eIyrKCTz0UY"
      },
      "execution_count": null,
      "outputs": []
    },
    {
      "cell_type": "code",
      "source": [],
      "metadata": {
        "id": "2ZOfiM7qThXi"
      },
      "execution_count": null,
      "outputs": []
    }
  ]
}