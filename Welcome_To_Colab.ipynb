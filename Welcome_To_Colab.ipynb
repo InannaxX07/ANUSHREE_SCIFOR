{
  "cells": [
    {
      "cell_type": "markdown",
      "metadata": {
        "id": "view-in-github",
        "colab_type": "text"
      },
      "source": [
        "<a href=\"https://colab.research.google.com/github/InannaxX07/ANUSHREE_SCIFOR/blob/main/Welcome_To_Colab.ipynb\" target=\"_parent\"><img src=\"https://colab.research.google.com/assets/colab-badge.svg\" alt=\"Open In Colab\"/></a>"
      ]
    },
    {
      "cell_type": "code",
      "source": [
        "import numpy as np\n",
        "\n",
        "# Define a mock YOLO-like model function that generates random detections\n",
        "def yolo_like_model(input_image):\n",
        "    # Simulate bounding box predictions and confidence scores\n",
        "    num_boxes = np.random.randint(1, 5)  # Randomly choose number of boxes\n",
        "    boxes = []\n",
        "    scores = []\n",
        "    classes = []\n",
        "\n",
        "    for _ in range(num_boxes):\n",
        "        # Generate random box coordinates (center x, center y, width, height)\n",
        "        box = np.random.rand(4)  # Replace with your actual detection logic\n",
        "        boxes.append(box)\n",
        "\n",
        "        # Generate random confidence score\n",
        "        score = np.random.rand()  # Replace with confidence score from model\n",
        "        scores.append(score)\n",
        "\n",
        "        # Generate random class (for illustration purposes)\n",
        "        cls = np.random.randint(0, 10)  # Replace with predicted class from model\n",
        "        classes.append(cls)\n",
        "\n",
        "    # Return mock detections\n",
        "    return {'boxes': np.array(boxes), 'scores': np.array(scores), 'classes': np.array(classes)}\n",
        "\n",
        "# Function to perform non-max suppression\n",
        "def non_max_suppression(boxes, scores, threshold=0.5):\n",
        "    # Simulate NMS (this is a placeholder and not a real implementation)\n",
        "    return boxes, scores\n",
        "\n",
        "# Function to preprocess input image (this is just a mock)\n",
        "def preprocess_image(image_path):\n",
        "    # Simulate loading and preprocessing an image (replace with actual logic)\n",
        "    return np.random.rand(416, 416, 3)  # Replace with actual image processing logic\n",
        "\n",
        "# Function to run inference on input image\n",
        "def run_inference(image_path):\n",
        "    # Simulate loading and preprocessing an image (replace with actual image loading logic)\n",
        "    input_image = preprocess_image(image_path)\n",
        "\n",
        "    # Perform inference using the mock YOLO-like model\n",
        "    detections = yolo_like_model(input_image)\n",
        "\n",
        "    # Perform non-max suppression on detections (this is a placeholder)\n",
        "    filtered_boxes, filtered_scores = non_max_suppression(detections['boxes'], detections['scores'], threshold=0.5)\n",
        "\n",
        "    # Print or process the filtered_boxes and filtered_scores\n",
        "    print(\"Filtered Boxes:\", filtered_boxes)\n",
        "    print(\"Filtered Scores:\", filtered_scores)\n",
        "\n",
        "# Example usage\n",
        "image_path = 'path_to_your_input_image.jpg'  # Replace with the path to your image\n",
        "run_inference(image_path)"
      ],
      "metadata": {
        "id": "wpSqcCgiLzCJ",
        "outputId": "093360bf-9dac-4275-b149-5f4de51530bb",
        "colab": {
          "base_uri": "https://localhost:8080/"
        }
      },
      "execution_count": 2,
      "outputs": [
        {
          "output_type": "stream",
          "name": "stdout",
          "text": [
            "Filtered Boxes: [[0.9970498  0.05875196 0.77736253 0.23748787]\n",
            " [0.84942008 0.31126221 0.58331221 0.89548635]\n",
            " [0.55742184 0.85506454 0.41873602 0.46132901]\n",
            " [0.97767293 0.48581224 0.86415109 0.40397146]]\n",
            "Filtered Scores: [0.04626404 0.47040315 0.37755803 0.87286468]\n"
          ]
        }
      ]
    }
  ],
  "metadata": {
    "colab": {
      "name": "Welcome To Colab",
      "provenance": [],
      "include_colab_link": true
    },
    "kernelspec": {
      "display_name": "Python 3",
      "name": "python3"
    }
  },
  "nbformat": 4,
  "nbformat_minor": 0
}