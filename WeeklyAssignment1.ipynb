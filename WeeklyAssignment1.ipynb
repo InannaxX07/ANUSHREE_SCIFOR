{
  "nbformat": 4,
  "nbformat_minor": 0,
  "metadata": {
    "colab": {
      "provenance": [],
      "authorship_tag": "ABX9TyOVPNaxg2JpgYT8Im13uz4V",
      "include_colab_link": true
    },
    "kernelspec": {
      "name": "python3",
      "display_name": "Python 3"
    },
    "language_info": {
      "name": "python"
    }
  },
  "cells": [
    {
      "cell_type": "markdown",
      "metadata": {
        "id": "view-in-github",
        "colab_type": "text"
      },
      "source": [
        "<a href=\"https://colab.research.google.com/github/InannaxX07/ANUSHREE_SCIFOR/blob/main/Anushree_Asthana_WeeklyAssignment1.ipynb\" target=\"_parent\"><img src=\"https://colab.research.google.com/assets/colab-badge.svg\" alt=\"Open In Colab\"/></a>"
      ]
    },
    {
      "cell_type": "code",
      "execution_count": null,
      "metadata": {
        "id": "hQF8WBOTbu-j"
      },
      "outputs": [],
      "source": [
        "#question 1 : merge strings alternately"
      ]
    },
    {
      "cell_type": "code",
      "source": [
        "class Solution(object):\n",
        "    def mergeAlternately(self, word1, word2):\n",
        "        \"\"\"\n",
        "        :type word1: str\n",
        "        :type word2: str\n",
        "        :rtype: str\n",
        "        \"\"\"\n",
        "        result = []\n",
        "        i = 0\n",
        "        while i < len(word1) or i < len(word2):\n",
        "            if i < len(word1):\n",
        "                result.append(word1[i])\n",
        "            if i < len(word2):\n",
        "                result.append(word2[i])\n",
        "            i += 1\n",
        "        return ''.join(result)"
      ],
      "metadata": {
        "id": "JDrermf0b2m1"
      },
      "execution_count": null,
      "outputs": []
    },
    {
      "cell_type": "code",
      "source": [
        "#find the difference"
      ],
      "metadata": {
        "id": "agNcG0a9cDJq"
      },
      "execution_count": null,
      "outputs": []
    },
    {
      "cell_type": "code",
      "source": [
        "class Solution:\n",
        "    def findTheDifference(self, s: str, t: str) -> str:\n",
        "        if len(s)> len(t):\n",
        "            for i in s:\n",
        "                if s.count(i)>t.count(i):\n",
        "                    return(i)\n",
        "                    break\n",
        "        if len(t)>len(s):\n",
        "            for i in t:\n",
        "                if t.count(i)>s.count(i):\n",
        "                    return(i)\n",
        "                    break"
      ],
      "metadata": {
        "id": "1YMT5YFBdOzS"
      },
      "execution_count": null,
      "outputs": []
    },
    {
      "cell_type": "code",
      "source": [
        "#index of first occurence"
      ],
      "metadata": {
        "id": "A0oKNf-fdUg6"
      },
      "execution_count": null,
      "outputs": []
    },
    {
      "cell_type": "code",
      "source": [
        "class Solution:\n",
        "    def strStr(self, haystack, needle):\n",
        "        x = len(needle)\n",
        "        for i in range(len(haystack)):\n",
        "            if needle == haystack[i:i+x]:\n",
        "                return i\n",
        "        return -1"
      ],
      "metadata": {
        "id": "cYc_b4Ojdi5h"
      },
      "execution_count": null,
      "outputs": []
    },
    {
      "cell_type": "code",
      "source": [
        "#valid anagram"
      ],
      "metadata": {
        "id": "emT-keYzd6Ch"
      },
      "execution_count": null,
      "outputs": []
    },
    {
      "cell_type": "code",
      "source": [
        "class Solution(object):\n",
        "    def isAnagram(self, s, t):\n",
        "        \"\"\"\n",
        "        :type s: str\n",
        "        :type t: str\n",
        "        :rtype: bool\n",
        "        \"\"\"\n",
        "        if len(s) != len(t):\n",
        "            return False\n",
        "\n",
        "        freq = [0] * 26\n",
        "        for i in range(len(s)):\n",
        "            freq[ord(s[i]) - ord('a')] += 1\n",
        "            freq[ord(t[i]) - ord('a')] -= 1\n",
        "\n",
        "        for i in range(len(freq)):\n",
        "            if freq[i] != 0:\n",
        "                return False\n",
        "\n",
        "        return True"
      ],
      "metadata": {
        "id": "vazcrXlEeDfq"
      },
      "execution_count": null,
      "outputs": []
    },
    {
      "cell_type": "code",
      "source": [
        "#repeated substring pattern"
      ],
      "metadata": {
        "id": "dTFZxSUzeZvF"
      },
      "execution_count": null,
      "outputs": []
    },
    {
      "cell_type": "code",
      "source": [
        "class Solution:\n",
        "    def repeatedSubstringPattern(self, s: str) -> bool:\n",
        "\n",
        "        s_fold = \"\".join( (s[1:], s[:-1]) )\n",
        "\n",
        "        return s in s_fold"
      ],
      "metadata": {
        "id": "-1BrB8OoefZ9"
      },
      "execution_count": null,
      "outputs": []
    },
    {
      "cell_type": "code",
      "source": [
        "#move zeroes"
      ],
      "metadata": {
        "id": "nDCzNLgGepe0"
      },
      "execution_count": null,
      "outputs": []
    },
    {
      "cell_type": "code",
      "source": [
        "    def moveZeroes(self, nums):\n",
        "        n = len(nums)\n",
        "        i = 0\n",
        "        for j in range(n):\n",
        "            if (nums[j] != 0):\n",
        "                nums[i], nums[j] = nums[j], nums[i]\n",
        "                i += 1"
      ],
      "metadata": {
        "id": "lQUeSx9Neu0A"
      },
      "execution_count": null,
      "outputs": []
    },
    {
      "cell_type": "code",
      "source": [
        "#plus one"
      ],
      "metadata": {
        "id": "zhJXeQeYe4ed"
      },
      "execution_count": null,
      "outputs": []
    },
    {
      "cell_type": "code",
      "source": [
        "class Solution(object):\n",
        "    def plusOne(self, digits):\n",
        "        \"\"\"\n",
        "        :type digits: List[int]\n",
        "        :rtype: List[int]\n",
        "        \"\"\"\n",
        "        return [int(x) for x in str(int(\"\".join(map(str,digits))) + 1)]\n",
        "\n"
      ],
      "metadata": {
        "id": "RatdP0DUe-O_"
      },
      "execution_count": null,
      "outputs": []
    },
    {
      "cell_type": "code",
      "source": [
        "#sign of the product of array"
      ],
      "metadata": {
        "id": "wsTfbzcLfSER"
      },
      "execution_count": null,
      "outputs": []
    },
    {
      "cell_type": "code",
      "source": [
        "class Solution:\n",
        "    def arraySign(self, nums: List[int]) -> int:\n",
        "        product_sign = 1\n",
        "\n",
        "        for num in nums:\n",
        "            if num == 0:\n",
        "                return 0\n",
        "            if num < 0:\n",
        "                product_sign *= -1\n",
        "\n",
        "        if product_sign > 0:\n",
        "            return 1\n",
        "        else:\n",
        "            return -1"
      ],
      "metadata": {
        "id": "xKsuwj-mfX4j"
      },
      "execution_count": null,
      "outputs": []
    },
    {
      "cell_type": "code",
      "source": [
        "#arithmetic progression from sequence"
      ],
      "metadata": {
        "id": "MR-d5vRcfkMM"
      },
      "execution_count": null,
      "outputs": []
    },
    {
      "cell_type": "code",
      "source": [
        "class Solution:\n",
        "    def canMakeArithmeticProgression(self, arr: List[int]) -> bool:\n",
        "        arr.sort()\n",
        "        for x,y in zip(arr,arr[1:]):\n",
        "            if y-x!=arr[1]-arr[0]:\n",
        "                return False\n",
        "\n",
        "        return True"
      ],
      "metadata": {
        "id": "eI8bxqQjfuFr"
      },
      "execution_count": null,
      "outputs": []
    },
    {
      "cell_type": "code",
      "source": [
        "#monotonic array"
      ],
      "metadata": {
        "id": "Q9q1rwfqf1FF"
      },
      "execution_count": null,
      "outputs": []
    },
    {
      "cell_type": "code",
      "source": [
        "class Solution(object):\n",
        "    def isMonotonic(self, nums):\n",
        "        monotonic = True\n",
        "        monotonic1 = True\n",
        "\n",
        "        for i in range(len(nums) - 1):\n",
        "            if nums[i] > nums[i + 1]:\n",
        "                monotonic = False\n",
        "\n",
        "        for i in range(len(nums) - 1):\n",
        "            if nums[i] < nums[i + 1]:\n",
        "                monotonic1 = False\n",
        "\n",
        "        if monotonic:\n",
        "            return monotonic\n",
        "        elif monotonic1:\n",
        "            return monotonic1\n",
        "        else:\n",
        "            return False"
      ],
      "metadata": {
        "id": "H5eAdvhSf5au"
      },
      "execution_count": null,
      "outputs": []
    },
    {
      "cell_type": "code",
      "source": [
        "#roman to integer"
      ],
      "metadata": {
        "id": "28mKIyDagBgd"
      },
      "execution_count": null,
      "outputs": []
    },
    {
      "cell_type": "code",
      "source": [
        "class Solution:\n",
        "    def romanToInt(self, s: str) -> int:\n",
        "        m = {\n",
        "            'I': 1,\n",
        "            'V': 5,\n",
        "            'X': 10,\n",
        "            'L': 50,\n",
        "            'C': 100,\n",
        "            'D': 500,\n",
        "            'M': 1000\n",
        "        }\n",
        "\n",
        "        ans = 0\n",
        "\n",
        "        for i in range(len(s)):\n",
        "            if i < len(s) - 1 and m[s[i]] < m[s[i+1]]:\n",
        "                ans -= m[s[i]]\n",
        "            else:\n",
        "                ans += m[s[i]]\n",
        "\n",
        "        return ans"
      ],
      "metadata": {
        "id": "Gke1f3IVgKPR"
      },
      "execution_count": null,
      "outputs": []
    }
  ]
}
